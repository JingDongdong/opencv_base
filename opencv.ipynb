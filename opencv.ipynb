{
 "cells": [
  {
   "cell_type": "code",
   "execution_count": 9,
   "metadata": {},
   "outputs": [],
   "source": [
    "import cv2"
   ]
  },
  {
   "cell_type": "code",
   "execution_count": 10,
   "id": "22ad9f3c",
   "metadata": {},
   "outputs": [],
   "source": [
    "# cv2.namedWindow('window',cv2.WINDOW_NORMAL)\n",
    "# cv2.resizeWindow('window',800,600)\n",
    "# cv2.imshow('window',0)\n",
    "# key = cv2.waitKey(0)\n",
    "# if key & 0xFF == ord('q'):\n",
    "#     cv2.destroyAllWindows()"
   ]
  },
  {
   "cell_type": "code",
   "execution_count": 11,
   "id": "983ea2d3",
   "metadata": {},
   "outputs": [],
   "source": [
    "image = cv2.imread('test.jpg')"
   ]
  },
  {
   "cell_type": "code",
   "execution_count": 12,
   "id": "0a679c44",
   "metadata": {},
   "outputs": [],
   "source": [
    "# cv2.imshow('img',image)\n",
    "# key = cv2.waitKey(0)\n",
    "# if key & 0xFF == ord('q'):\n",
    "#     cv2.destroyAllWindows()"
   ]
  },
  {
   "cell_type": "code",
   "execution_count": 13,
   "id": "e0f5e41a",
   "metadata": {},
   "outputs": [],
   "source": [
    "from utils import *"
   ]
  },
  {
   "cell_type": "code",
   "execution_count": 14,
   "id": "ccc17252",
   "metadata": {},
   "outputs": [
    {
     "name": "stdout",
     "output_type": "stream",
     "text": [
      "2\n"
     ]
    }
   ],
   "source": [
    "show_save('img',image)"
   ]
  },
  {
   "cell_type": "code",
   "execution_count": 20,
   "id": "aee604e4",
   "metadata": {},
   "outputs": [],
   "source": [
    "cap = cv2.VideoCapture(0)\n",
    "while True:\n",
    "    ret, frame = cap.read()\n",
    "    if not ret:\n",
    "        break\n",
    "    cv2.imshow('video',frame)\n",
    "    key = cv2.waitKey(1000//120)\n",
    "    if key & 0xFF == ord('q'):\n",
    "        break\n",
    "cap.release()\n",
    "cv2.destroyAllWindows()"
   ]
  },
  {
   "cell_type": "markdown",
   "id": "d357b03b",
   "metadata": {},
   "source": [
    "视频录制"
   ]
  },
  {
   "cell_type": "code",
   "execution_count": 21,
   "id": "f96e374d",
   "metadata": {},
   "outputs": [],
   "source": [
    "cap = cv2.VideoCapture(0)\n",
    "fourcc = cv2.VideoWriter_fourcc(*'mp4v')\n",
    "# 创建avi格式视频\n",
    "fourcc = cv2.VideoWriter_fourcc(*'XVID')\n",
    "\n",
    "vw = cv2.VideoWriter('output.mp4',fourcc,30,(640,480))\n",
    "\n",
    "while cap.isOpened():\n",
    "    ret,frame = cap.read()\n",
    "    if not ret:\n",
    "        break\n",
    "    vw.write(frame)\n",
    "    cv2.imshow('frame',frame)\n",
    "\n",
    "    if cv2.waitKey(1000//30) == ord('q'):\n",
    "        break\n",
    "cap.release()\n",
    "vw.release()\n",
    "cv2.destroyAllWindows()"
   ]
  },
  {
   "attachments": {},
   "cell_type": "markdown",
   "id": "6b19997e",
   "metadata": {},
   "source": [
    "#控制鼠标\n",
    "C:\\Users\\荆东东\\Pictures\\联想截图\\联想截图_20221209160100.png"
   ]
  },
  {
   "cell_type": "code",
   "execution_count": 1,
   "id": "cefceb43",
   "metadata": {},
   "outputs": [
    {
     "ename": "AttributeError",
     "evalue": "module 'cv2' has no attribute 'window_Normal'",
     "output_type": "error",
     "traceback": [
      "\u001b[1;31m---------------------------------------------------------------------------\u001b[0m",
      "\u001b[1;31mAttributeError\u001b[0m                            Traceback (most recent call last)",
      "\u001b[1;32m~\\AppData\\Local\\Temp\\ipykernel_15216\\853839049.py\u001b[0m in \u001b[0;36m<module>\u001b[1;34m\u001b[0m\n\u001b[0;32m      9\u001b[0m \u001b[1;33m\u001b[0m\u001b[0m\n\u001b[0;32m     10\u001b[0m \u001b[1;33m\u001b[0m\u001b[0m\n\u001b[1;32m---> 11\u001b[1;33m \u001b[0mcv2\u001b[0m\u001b[1;33m.\u001b[0m\u001b[0mnamedWindow\u001b[0m\u001b[1;33m(\u001b[0m\u001b[1;34m'mouse'\u001b[0m\u001b[1;33m,\u001b[0m\u001b[0mcv2\u001b[0m\u001b[1;33m.\u001b[0m\u001b[0mwindow_Normal\u001b[0m\u001b[1;33m)\u001b[0m\u001b[1;33m\u001b[0m\u001b[1;33m\u001b[0m\u001b[0m\n\u001b[0m\u001b[0;32m     12\u001b[0m \u001b[0mcv2\u001b[0m\u001b[1;33m.\u001b[0m\u001b[0mresizeWindow\u001b[0m\u001b[1;33m(\u001b[0m\u001b[1;34m'mouse'\u001b[0m\u001b[1;33m,\u001b[0m\u001b[1;36m640\u001b[0m\u001b[1;33m,\u001b[0m\u001b[1;36m360\u001b[0m\u001b[1;33m)\u001b[0m\u001b[1;33m\u001b[0m\u001b[1;33m\u001b[0m\u001b[0m\n\u001b[0;32m     13\u001b[0m \u001b[1;33m\u001b[0m\u001b[0m\n",
      "\u001b[1;31mAttributeError\u001b[0m: module 'cv2' has no attribute 'window_Normal'"
     ]
    }
   ],
   "source": [
    "\n",
    "import cv2\n",
    "import numpy as np\n",
    "#函数名可以随便取，但是参数必须是5个.\n",
    "# event表示鼠标事件，x, y是鼠标的坐标\n",
    "# flags鼠标的组合按键\n",
    "\n",
    "def mouse_callback(event,x,y,flags,userdata):\n",
    "    print(event,x,y,flags,userdata)\n",
    "\n",
    "\n",
    "cv2.namedWindow('mouse',cv2.WINDOW_NORMAL)\n",
    "cv2.resizeWindow('mouse',640,360)\n",
    "cv2.setMouseCallback('mouse',mouse_callback,'123')\n",
    "\n",
    "img = np.zeros((360,640,3),np.uint8)\n",
    "while True:\n",
    "    cv2.imshow('mouse',img)\n",
    "    key = cv2.waitKey(1)\n",
    "    if key==ord('q'):\n",
    "        break\n",
    "cv2.destroyAllWindows()\n",
    "\n"
   ]
  },
  {
   "attachments": {},
   "cell_type": "markdown",
   "id": "a649efce",
   "metadata": {},
   "source": [
    "trackbar的使用"
   ]
  },
  {
   "cell_type": "code",
   "execution_count": null,
   "id": "16250416",
   "metadata": {},
   "outputs": [],
   "source": [
    "import cv2\n",
    "import numpy as np\n",
    "\n",
    "\n",
    "cv2.namedWindow('trackbar',cv2.WINDOW_NORMAL)\n",
    "cv2.resizeWindow('trackbar',640,480)\n",
    "\n",
    "def callback(value):\n",
    "    # print(value)\n",
    "    pass\n",
    "\n",
    "\n",
    "#创建3个trackbar\n",
    "\n",
    "cv2.createTrackbar('R','trackbar',0,255,callback)\n",
    "cv2.createTrackbar('G','trackbar',0,255,callback)\n",
    "cv2.createTrackbar('B','trackbar',0,255,callback)\n",
    "\n",
    "# 创建背景图片\n",
    "\n",
    "img = np.zeros((480,640,3),np.uint8)\n",
    "\n",
    "while True:\n",
    "    #获取当前trackbar的值\n",
    "    r=cv2.getTrackbarPos('R','trackbar')\n",
    "    g=cv2.getTrackbarPos('G','trackbar')\n",
    "    b=cv2.getTrackbarPos('B','trackbar')\n",
    "    #用获取到的三个值修改背景图片颜色\n",
    "    img[:] = [b,g,r]\n",
    "    cv2.imshow('trackbar',img)\n",
    "    key = cv2.waitkey(1)\n",
    "    if key == ord('q'):\n",
    "        break\n",
    "cv2.destroyAllWindows()\n"
   ]
  },
  {
   "attachments": {},
   "cell_type": "markdown",
   "id": "5a2a7f00",
   "metadata": {},
   "source": [
    "色彩空间"
   ]
  },
  {
   "cell_type": "code",
   "execution_count": 2,
   "id": "f84ef53c",
   "metadata": {},
   "outputs": [],
   "source": [
    "import cv2\n",
    "\n",
    "img = cv2.imread('test.jpg')"
   ]
  },
  {
   "cell_type": "code",
   "execution_count": 15,
   "id": "6073612d",
   "metadata": {},
   "outputs": [
    {
     "data": {
      "text/plain": [
       "(608, 1080, 3)"
      ]
     },
     "execution_count": 15,
     "metadata": {},
     "output_type": "execute_result"
    }
   ],
   "source": [
    "img.shape"
   ]
  },
  {
   "cell_type": "code",
   "execution_count": 4,
   "id": "2556f1aa",
   "metadata": {},
   "outputs": [],
   "source": [
    "from pandas import DataFrame"
   ]
  },
  {
   "cell_type": "code",
   "execution_count": 5,
   "id": "69b50261",
   "metadata": {},
   "outputs": [],
   "source": [
    "df=DataFrame(img.reshape(-1,3))"
   ]
  },
  {
   "cell_type": "code",
   "execution_count": 13,
   "id": "71c0adb7",
   "metadata": {},
   "outputs": [
    {
     "data": {
      "text/html": [
       "<div>\n",
       "<style scoped>\n",
       "    .dataframe tbody tr th:only-of-type {\n",
       "        vertical-align: middle;\n",
       "    }\n",
       "\n",
       "    .dataframe tbody tr th {\n",
       "        vertical-align: top;\n",
       "    }\n",
       "\n",
       "    .dataframe thead th {\n",
       "        text-align: right;\n",
       "    }\n",
       "</style>\n",
       "<table border=\"1\" class=\"dataframe\">\n",
       "  <thead>\n",
       "    <tr style=\"text-align: right;\">\n",
       "      <th></th>\n",
       "      <th>0</th>\n",
       "      <th>1</th>\n",
       "      <th>2</th>\n",
       "    </tr>\n",
       "  </thead>\n",
       "  <tbody>\n",
       "    <tr>\n",
       "      <th>0</th>\n",
       "      <td>25</td>\n",
       "      <td>30</td>\n",
       "      <td>39</td>\n",
       "    </tr>\n",
       "    <tr>\n",
       "      <th>1</th>\n",
       "      <td>27</td>\n",
       "      <td>30</td>\n",
       "      <td>44</td>\n",
       "    </tr>\n",
       "    <tr>\n",
       "      <th>2</th>\n",
       "      <td>27</td>\n",
       "      <td>27</td>\n",
       "      <td>51</td>\n",
       "    </tr>\n",
       "    <tr>\n",
       "      <th>3</th>\n",
       "      <td>23</td>\n",
       "      <td>22</td>\n",
       "      <td>56</td>\n",
       "    </tr>\n",
       "    <tr>\n",
       "      <th>4</th>\n",
       "      <td>45</td>\n",
       "      <td>40</td>\n",
       "      <td>85</td>\n",
       "    </tr>\n",
       "  </tbody>\n",
       "</table>\n",
       "</div>"
      ],
      "text/plain": [
       "    0   1   2\n",
       "0  25  30  39\n",
       "1  27  30  44\n",
       "2  27  27  51\n",
       "3  23  22  56\n",
       "4  45  40  85"
      ]
     },
     "execution_count": 13,
     "metadata": {},
     "output_type": "execute_result"
    }
   ],
   "source": [
    "df.head()"
   ]
  },
  {
   "cell_type": "code",
   "execution_count": 34,
   "id": "67357795",
   "metadata": {},
   "outputs": [
    {
     "data": {
      "text/plain": [
       "656640"
      ]
     },
     "execution_count": 34,
     "metadata": {},
     "output_type": "execute_result"
    }
   ],
   "source": [
    "df.shape[0]"
   ]
  },
  {
   "cell_type": "code",
   "execution_count": 35,
   "id": "73d256b4",
   "metadata": {},
   "outputs": [
    {
     "data": {
      "text/plain": [
       "143280"
      ]
     },
     "execution_count": 35,
     "metadata": {},
     "output_type": "execute_result"
    }
   ],
   "source": [
    "df.shape[0]-df.duplicated().sum()"
   ]
  },
  {
   "cell_type": "code",
   "execution_count": 2,
   "id": "edfcadb7",
   "metadata": {},
   "outputs": [],
   "source": [
    "import cv2\n",
    "\n",
    "def callback(value):\n",
    "    pass\n",
    "\n",
    "cv2.namedWindow('color',cv2.WINDOW_NORMAL)\n",
    "cv2.resizeWindow('color',640,480)\n",
    "\n",
    "img = cv2.imread('test.jpg')\n",
    "colorspace=[\n",
    "    #所有的颜色空间\n",
    "    cv2.COLOR_BGR2RGBA,cv2.COLOR_BGR2BGRA,\n",
    "    cv2.COLOR_BGR2GRAY,cv2.COLOR_BGR2HSV,\n",
    "    cv2.COLOR_BGR2YUV\n",
    "]\n",
    "\n",
    "cv2.createTrackbar('trackbar','color',0,4,callback)\n",
    "\n",
    "while True:\n",
    "    index = cv2.getTrackbarPos('trackbar','color')\n",
    "    cvt_img = cv2.cvtColor(img,colorspace[index])\n",
    "    cv2.imshow('color',cvt_img)\n",
    "    key=cv2.waitKey(10)\n",
    "    if key == ord('q'):\n",
    "        break\n",
    "cv2.destroyAllWindows()\n"
   ]
  },
  {
   "attachments": {},
   "cell_type": "markdown",
   "id": "08286b02",
   "metadata": {},
   "source": [
    "MAT \n",
    "pyhton 把mat转化成numpy的ndarray"
   ]
  },
  {
   "cell_type": "code",
   "execution_count": 3,
   "id": "62e0c493",
   "metadata": {},
   "outputs": [
    {
     "data": {
      "text/plain": [
       "numpy.ndarray"
      ]
     },
     "execution_count": 3,
     "metadata": {},
     "output_type": "execute_result"
    }
   ],
   "source": [
    "type(img)"
   ]
  },
  {
   "attachments": {},
   "cell_type": "markdown",
   "id": "9af7041c",
   "metadata": {},
   "source": [
    "#ndarray 4种常见属性\n",
    "img.data\n",
    "img.size\n",
    "img.dtype\n",
    "img.shape\n",
    "img.itemsize\n",
    "img.ndim 维度数\n"
   ]
  },
  {
   "attachments": {},
   "cell_type": "markdown",
   "id": "1121fc54",
   "metadata": {},
   "source": [
    "因为python中图片数据已经包装成ndarray,所以对mat的深浅拷贝，其实就是对ndarray深浅拷贝"
   ]
  },
  {
   "cell_type": "code",
   "execution_count": 6,
   "id": "3b04d574",
   "metadata": {},
   "outputs": [],
   "source": [
    "import cv2\n",
    "\n",
    "import numpy as np\n",
    "\n",
    "img = cv2.imread('test.jpg')\n",
    "#浅拷贝\n",
    "img2 = img.view()#新找了一个地址指向这个数据\n",
    "#深拷贝\n",
    "img3 = img.copy()\n",
    "\n",
    "img[10:100,10:] = [0,0,255]#列，行\n",
    "cv2.imshow('img',np.hstack((img,img2,img3)))#np.hstack，np.vstack\n",
    "cv2.waitKey(0)\n",
    "cv2.destroyAllWindows()\n"
   ]
  },
  {
   "attachments": {},
   "cell_type": "markdown",
   "id": "512a4f85",
   "metadata": {},
   "source": [
    "图像的分割与融合"
   ]
  },
  {
   "cell_type": "code",
   "execution_count": 1,
   "id": "ad2b383f",
   "metadata": {},
   "outputs": [],
   "source": [
    "import cv2\n",
    "import numpy as np\n",
    "\n",
    "img  = np.zeros((480,640,3),np.uint8)\n",
    "\n",
    "#分割通道\n",
    "b,g,r=cv2.split(img)\n",
    "b[10:100,10:100]=255\n",
    "g[10:100,10:100]=255\n",
    "#合并通道\n",
    "img2= cv2.merge((b,g,r))\n",
    "cv2.imshow('img',np.hstack((b,r)))\n",
    "cv2.imshow('img2',np.hstack((img,img2)))\n",
    "\n",
    "cv2.waitKey(0)\n",
    "cv2.destroyAllWindows()\n"
   ]
  },
  {
   "attachments": {},
   "cell_type": "markdown",
   "id": "dec7985a",
   "metadata": {},
   "source": [
    "绘制图形和文本信息"
   ]
  },
  {
   "cell_type": "code",
   "execution_count": 21,
   "id": "eac6613c",
   "metadata": {},
   "outputs": [],
   "source": [
    "import cv2\n",
    "import numpy as np\n",
    "\n",
    "img = np.zeros((480,640,3),np.uint8)\n",
    "# line(img,pt1,pt2,color,thickness,lineType,shift)\n",
    "# rectangle(img,pt1,pt2,color,thickness,lineType,shift)\n",
    "# cv2.line(img,(10,20),(300,200),(0,0,255),5,8)\n",
    "# cv2.line(img,(10,20),(300,600),(0,0,255),5,16)\n",
    "# cv2.rectangle(img,(80,100),(300,380),(0,255,0),5)\n",
    "\n",
    "cv2.circle(img,(320,240),100,(255,0,0),5,16)\n",
    "# ellipse(img: Mat, center, axes, angle, startAngle, endAngle, color, thickness=..., lineType=..., shift=...)\n",
    "# ellipse(img,中心点,长宽的一半，角度，从哪个角度开始，从哪个角度结束。。。)\n",
    "cv2.ellipse(img,(320,240),(100,50),0,0,360,(0,255,0),5,16)\n",
    "cv2.ellipse(img,(320,240),(100,50),45,0,360,(0,255,0),5,16)\n",
    "cv2.ellipse(img,(320,240),(100,50),90,0,360,(0,255,0),5,16)\n",
    "cv2.ellipse(img,(320,240),(100,50),135,0,360,(0,255,0),5,16)\n",
    "cv2.ellipse(img,(320,240),(100,50),180,0,360,(0,255,0),5,16)\n",
    "#pts多边形的点集，必须是int 32位\n",
    "pts = np.array([(250,100),(150,300),(50,280)],np.int32)\n",
    "#注意pts是3维\n",
    "# cv2.polylines(img,[pts],True,(0,0,255),5,16)\n",
    "#填充多边形\n",
    "# cv2.fillPoly(img,[pts],(0,0,255),16)\n",
    "\n",
    "cv2.putText(img,'Hello',(100,300),cv2.FONT_HERSHEY_COMPLEX,3,(0,0,255),3,16)\n",
    "\n",
    "cv2.imshow('img',img)\n",
    "cv2.waitKey(0)\n",
    "cv2.destroyAllWindows()"
   ]
  },
  {
   "attachments": {},
   "cell_type": "markdown",
   "id": "1ff719d8",
   "metadata": {},
   "source": [
    "opencv显示中文使用，pillow"
   ]
  },
  {
   "cell_type": "code",
   "execution_count": 32,
   "id": "ab44d102",
   "metadata": {},
   "outputs": [],
   "source": [
    "from PIL import ImageFont,ImageDraw,Image\n",
    "#纯白\n",
    "# img = np.full((200,200,3),fill_value=255,dtype=np.uint8)\n",
    "img = cv2.imread('test.jpg')\n",
    "#导入字体文件\n",
    "font = ImageFont.truetype('MSYHBD.TTC',35)\n",
    "#创建一个pillow的图片\n",
    "img_pil=Image.fromarray(img)\n",
    "draw = ImageDraw.Draw(img_pil)\n",
    "#\n",
    "draw.text((620,270),'你好',font = font,fill=(0,255,0,0))\n",
    "\n",
    "img = np.array(img_pil)\n",
    "\n",
    "cv2.imshow('img',img)\n",
    "cv2.waitKey(0)\n",
    "cv2.destroyAllWindows()"
   ]
  },
  {
   "attachments": {},
   "cell_type": "markdown",
   "id": "753575ea",
   "metadata": {},
   "source": [
    "加法运算"
   ]
  },
  {
   "cell_type": "code",
   "execution_count": 44,
   "id": "11b0ddfe",
   "metadata": {},
   "outputs": [],
   "source": [
    "import cv2\n",
    "import numpy as np\n",
    "\n",
    "\n",
    "img1=cv2.imread('test.jpg')\n",
    "img2=cv2.imread('test2.jpg')\n",
    "\n",
    "# print(img1.shape)\n",
    "# print(img2.shape)\n",
    "\n",
    "#使用add之前要使图片形状一致\n",
    "# 通过ndarray的切片方式取出完全一样的形状\n",
    "# new_img=img1[0:360,:499]\n",
    "# \n",
    "# cv2.add加法要求两个图片的长宽相同，通道数相同\n",
    "# add的规则就是两个图对应位置的元素相加，如果超过255，全部变成255\n",
    "new_img = cv2.add(img1,img2)\n",
    "#减法 subtract,对应位置元素相减，减完小于0，统一变成0\n",
    "new_img2 =cv2.subtract(img2,img1)\n",
    "# img1+=100\n",
    "# img2-=100\n",
    "#multiply\n",
    "new_img3 =cv2.multiply(img2,img1)\n",
    "#divide\n",
    "new_img4 =cv2.divide(img2,img1)\n",
    "cv2.imshow('img',np.hstack((new_img,new_img2,new_img3,new_img4)))\n",
    "cv2.waitKey(0)\n",
    "cv2.destroyAllWindows()"
   ]
  },
  {
   "attachments": {},
   "cell_type": "markdown",
   "id": "dd9c5f6c",
   "metadata": {},
   "source": [
    "### 图片融合"
   ]
  },
  {
   "cell_type": "code",
   "execution_count": 52,
   "id": "10a0571b",
   "metadata": {},
   "outputs": [],
   "source": [
    "#不是简单的加法，相当于用图片做线性运算，new_img=img1*w1+img2*w2+bias\n",
    "import cv2\n",
    "import numpy as np\n",
    "\n",
    "\n",
    "img1=cv2.imread('test.jpg')\n",
    "img2=cv2.imread('test2.jpg')\n",
    "new_img = cv2.addWeighted(img1,0.5,img2,0.3,10)\n",
    "cv2.imshow('img',new_img)\n",
    "# cv2.imshow('img',np.hstack((new_img,new_img2,new_img3,new_img4)))\n",
    "cv2.waitKey(0)\n",
    "cv2.destroyAllWindows()"
   ]
  },
  {
   "attachments": {},
   "cell_type": "markdown",
   "id": "9c230b42",
   "metadata": {},
   "source": [
    "逻辑运算-----与或非，异或\n",
    "\n",
    "\n",
    "OpenCv中的逻辑运算就是对应位置元素进行与或非\n",
    "\n",
    "opencv中的非，0反过来是255\n",
    "\n"
   ]
  },
  {
   "cell_type": "code",
   "execution_count": 63,
   "id": "adf38a0c",
   "metadata": {},
   "outputs": [],
   "source": [
    "import cv2\n",
    "import numpy as np\n",
    "\n",
    "\n",
    "img1=cv2.imread('test.jpg')\n",
    "img2=cv2.imread('test2.jpg')\n",
    "new_img_and = cv2.bitwise_and(img1,img2)\n",
    "new_img_or = cv2.bitwise_or(img1,img2)\n",
    "new_img_xor = cv2.bitwise_xor(img1,img2)\n",
    "new_img_not = cv2.bitwise_not(img1)\n",
    "\n",
    "cv2.imshow('img',np.hstack((img1,new_img_and,new_img_or,new_img_xor)))\n",
    "cv2.waitKey(0)\n",
    "cv2.destroyAllWindows()\n"
   ]
  },
  {
   "attachments": {},
   "cell_type": "markdown",
   "id": "48af5493",
   "metadata": {},
   "source": [
    "### resize的用法"
   ]
  },
  {
   "cell_type": "code",
   "execution_count": 83,
   "id": "f6475c1c",
   "metadata": {},
   "outputs": [
    {
     "name": "stdout",
     "output_type": "stream",
     "text": [
      "(608, 1080, 3)\n"
     ]
    }
   ],
   "source": [
    "import cv2\n",
    "import numpy as np\n",
    "\n",
    "\n",
    "img1=cv2.imread('test.jpg')\n",
    "img2=cv2.imread('test2.jpg')\n",
    "print(img1.shape)\n",
    "# (608, 1080, 3)\n",
    "new_img=cv2.resize(img1,(540,304)) \n",
    "new_img2=cv2.resize(img1,dsize=None,fx=0.5,fy=0.5,interpolation=cv2.INTER_AREA)\n",
    "cv2.imshow('img',np.hstack((new_img,new_img2)))\n",
    "cv2.waitKey(0)\n",
    "cv2.destroyAllWindows()"
   ]
  },
  {
   "cell_type": "code",
   "execution_count": 66,
   "id": "bfc90e65",
   "metadata": {},
   "outputs": [
    {
     "data": {
      "text/plain": [
       "1970056"
      ]
     },
     "execution_count": 66,
     "metadata": {},
     "output_type": "execute_result"
    }
   ],
   "source": [
    "img1.__sizeof__()"
   ]
  },
  {
   "cell_type": "code",
   "execution_count": 69,
   "id": "09a942f0",
   "metadata": {},
   "outputs": [
    {
     "name": "stdout",
     "output_type": "stream",
     "text": [
      "492616\n",
      "492616\n"
     ]
    }
   ],
   "source": [
    "\n",
    "print(new_img.__sizeof__())\n",
    "print(new_img2.__sizeof__())"
   ]
  },
  {
   "attachments": {},
   "cell_type": "markdown",
   "id": "db9f3810",
   "metadata": {},
   "source": [
    "### 图像的翻转"
   ]
  },
  {
   "cell_type": "code",
   "execution_count": 75,
   "id": "02695511",
   "metadata": {},
   "outputs": [],
   "source": [
    "import cv2\n",
    "import numpy as np\n",
    "\n",
    "img = cv2.imread('test.jpg')\n",
    "# =0 上下翻转\n",
    "# >0 左右反转\n",
    "# <0 上下左右翻转\n",
    "new_img1=cv2.flip(img,-1)\n",
    "\n",
    "new_img4 = img[::-1,::-1]#上下左右翻转\n",
    "\n",
    "\n",
    "cv2.imshow('img',np.hstack((img,new_img1,new_img4)))\n",
    "cv2.waitKey(0)\n",
    "cv2.destroyAllWindows()\n"
   ]
  },
  {
   "attachments": {},
   "cell_type": "markdown",
   "id": "87b609dd",
   "metadata": {},
   "source": [
    "### 图像旋转"
   ]
  },
  {
   "cell_type": "code",
   "execution_count": 79,
   "id": "c5962e37",
   "metadata": {},
   "outputs": [
    {
     "name": "stdout",
     "output_type": "stream",
     "text": [
      "(608, 1080, 3)\n"
     ]
    }
   ],
   "source": [
    "import cv2\n",
    "import numpy as np\n",
    "\n",
    "img = cv2.imread('test.jpg')\n",
    "\n",
    "# ROTATE_90_CLOCKWISE 顺时针90\n",
    "# ROTATE_180 180\n",
    "# ROTATE_90_COUNTERCLOCKWISE 逆时针90\n",
    "img = cv2.resize(img,(540,304))\n",
    "new_img1=cv2.rotate(img,rotateCode=cv2.ROTATE_90_CLOCKWISE)\n",
    "new_img2=cv2.rotate(img,rotateCode=cv2.ROTATE_180)\n",
    "new_img3=cv2.rotate(img,rotateCode=cv2.ROTATE_90_COUNTERCLOCKWISE)\n",
    "\n",
    "\n",
    "cv2.imshow('img1',new_img1)\n",
    "cv2.imshow('img2',new_img2)\n",
    "cv2.imshow('img3',new_img3)\n",
    "cv2.waitKey(0)\n",
    "cv2.destroyAllWindows()"
   ]
  },
  {
   "cell_type": "code",
   "execution_count": 82,
   "id": "d77cf957",
   "metadata": {},
   "outputs": [
    {
     "name": "stdout",
     "output_type": "stream",
     "text": [
      "(304, 540, 3)\n",
      "304\n"
     ]
    }
   ],
   "source": [
    "print(img.shape)\n",
    "w,l,d = img.shape\n",
    "print(w)"
   ]
  },
  {
   "attachments": {},
   "cell_type": "markdown",
   "id": "d56316ee",
   "metadata": {},
   "source": [
    "### 仿射变换 图像平移"
   ]
  },
  {
   "cell_type": "code",
   "execution_count": 87,
   "id": "184359bf",
   "metadata": {},
   "outputs": [
    {
     "name": "stdout",
     "output_type": "stream",
     "text": [
      "304\n"
     ]
    }
   ],
   "source": [
    "import cv2\n",
    "import numpy as np\n",
    "\n",
    "img = cv2.imread('test.jpg')\n",
    "# opencv中改变尺寸都是先宽后高\n",
    "img = cv2.resize(img,(540,304))\n",
    "\n",
    "h,w,c=img.shape\n",
    "print(h)\n",
    "#变换矩阵最少是float32\n",
    "M=np.float32([[1,0,200],[0,1,200]])\n",
    "new_img1=cv2.warpAffine(img,M,dsize=(w,h))\n",
    "\n",
    "cv2.imshow('img1',np.hstack((img,new_img1)))\n",
    "# cv2.imshow('img2',new_img2)\n",
    "# cv2.imshow('img3',new_img3)\n",
    "cv2.waitKey(0)\n",
    "cv2.destroyAllWindows()"
   ]
  },
  {
   "attachments": {},
   "cell_type": "markdown",
   "id": "1b697b05",
   "metadata": {},
   "source": [
    "### 变换矩阵"
   ]
  },
  {
   "cell_type": "code",
   "execution_count": null,
   "id": "ec2517af",
   "metadata": {},
   "outputs": [],
   "source": []
  }
 ],
 "metadata": {
  "kernelspec": {
   "display_name": "py37",
   "language": "python",
   "name": "python3"
  },
  "language_info": {
   "codemirror_mode": {
    "name": "ipython",
    "version": 3
   },
   "file_extension": ".py",
   "mimetype": "text/x-python",
   "name": "python",
   "nbconvert_exporter": "python",
   "pygments_lexer": "ipython3",
   "version": "3.7.15"
  },
  "vscode": {
   "interpreter": {
    "hash": "51f394aac1e016c68a2e07e6e5c9a8b2a67bc9728f65aef75a6f73e993e27f5f"
   }
  }
 },
 "nbformat": 4,
 "nbformat_minor": 5
}
